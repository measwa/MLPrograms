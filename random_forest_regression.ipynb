{
  "nbformat": 4,
  "nbformat_minor": 0,
  "metadata": {
    "colab": {
      "name": "random_forest_regression.ipynb",
      "provenance": [],
      "collapsed_sections": [],
      "authorship_tag": "ABX9TyMYbVAQw7xe90sCh/WK+U/7",
      "include_colab_link": true
    },
    "kernelspec": {
      "name": "python3",
      "display_name": "Python 3"
    }
  },
  "cells": [
    {
      "cell_type": "markdown",
      "metadata": {
        "id": "view-in-github",
        "colab_type": "text"
      },
      "source": [
        "<a href=\"https://colab.research.google.com/github/measwa/MLPrograms/blob/Python/random_forest_regression.ipynb\" target=\"_parent\"><img src=\"https://colab.research.google.com/assets/colab-badge.svg\" alt=\"Open In Colab\"/></a>"
      ]
    },
    {
      "cell_type": "markdown",
      "metadata": {
        "id": "RhvBsXLw3gbo"
      },
      "source": [
        "# **Random Forest Regression**"
      ]
    },
    {
      "cell_type": "markdown",
      "metadata": {
        "id": "wcn4w2KE3lld"
      },
      "source": [
        "# Import the Libraries"
      ]
    },
    {
      "cell_type": "code",
      "metadata": {
        "id": "yB_V9oXU3EGi"
      },
      "source": [
        "import numpy as np\r\n",
        "import pandas as pd\r\n",
        "import matplotlib.pyplot as plt"
      ],
      "execution_count": 1,
      "outputs": []
    },
    {
      "cell_type": "markdown",
      "metadata": {
        "id": "Pk9K0zGE3vGZ"
      },
      "source": [
        "# Import the Dataset"
      ]
    },
    {
      "cell_type": "code",
      "metadata": {
        "id": "J5ZFy9zs3ygR"
      },
      "source": [
        "dataset = pd.read_csv('Position_Salaries.csv')\r\n",
        "X = dataset.iloc[:,1:-1].values\r\n",
        "y = dataset.iloc[:,-1].values"
      ],
      "execution_count": 9,
      "outputs": []
    },
    {
      "cell_type": "markdown",
      "metadata": {
        "id": "uV4uj9f44CiU"
      },
      "source": [
        "# Train the Random Forest Regression model on the whole dataset"
      ]
    },
    {
      "cell_type": "code",
      "metadata": {
        "colab": {
          "base_uri": "https://localhost:8080/"
        },
        "id": "UBHhqDaH4pbV",
        "outputId": "628b1baf-8193-49e9-9682-21cad23efbf3"
      },
      "source": [
        "from sklearn.ensemble import RandomForestRegressor\r\n",
        "rfr = RandomForestRegressor(n_estimators=10, random_state=0)\r\n",
        "rfr.fit(X,y)"
      ],
      "execution_count": 10,
      "outputs": [
        {
          "output_type": "execute_result",
          "data": {
            "text/plain": [
              "RandomForestRegressor(bootstrap=True, ccp_alpha=0.0, criterion='mse',\n",
              "                      max_depth=None, max_features='auto', max_leaf_nodes=None,\n",
              "                      max_samples=None, min_impurity_decrease=0.0,\n",
              "                      min_impurity_split=None, min_samples_leaf=1,\n",
              "                      min_samples_split=2, min_weight_fraction_leaf=0.0,\n",
              "                      n_estimators=10, n_jobs=None, oob_score=False,\n",
              "                      random_state=0, verbose=0, warm_start=False)"
            ]
          },
          "metadata": {
            "tags": []
          },
          "execution_count": 10
        }
      ]
    },
    {
      "cell_type": "markdown",
      "metadata": {
        "id": "K0jxd0Cn4R0A"
      },
      "source": [
        "# Predict a new test result"
      ]
    },
    {
      "cell_type": "code",
      "metadata": {
        "colab": {
          "base_uri": "https://localhost:8080/"
        },
        "id": "yOgM0bue43WU",
        "outputId": "6ca6c96c-a6fc-4947-deee-0b8d1d798de5"
      },
      "source": [
        "rfr.predict([[6.5]])"
      ],
      "execution_count": 11,
      "outputs": [
        {
          "output_type": "execute_result",
          "data": {
            "text/plain": [
              "array([167000.])"
            ]
          },
          "metadata": {
            "tags": []
          },
          "execution_count": 11
        }
      ]
    },
    {
      "cell_type": "markdown",
      "metadata": {
        "id": "de0Z_L3l4bGi"
      },
      "source": [
        "# Visualizing the Random Forest Regression model results (Higher Resolution)"
      ]
    },
    {
      "cell_type": "code",
      "metadata": {
        "colab": {
          "base_uri": "https://localhost:8080/",
          "height": 295
        },
        "id": "tRbwL4mW5BMe",
        "outputId": "2a73cc83-7905-40f2-c31d-00514be73ab8"
      },
      "source": [
        "X_grid = np.arange(min(X),max(X),0.01)\r\n",
        "X_grid = X_grid.reshape(len(X_grid),1)\r\n",
        "plt.scatter(X,y,color = 'red')\r\n",
        "plt.plot(X_grid, rfr.predict(X_grid), color='blue')\r\n",
        "plt.title('Level vs Salary (Random Forest Regression)')\r\n",
        "plt.xlabel('Level')\r\n",
        "plt.ylabel('Salary')\r\n",
        "plt.show()"
      ],
      "execution_count": 13,
      "outputs": [
        {
          "output_type": "display_data",
          "data": {
            "image/png": "[encoded data removed]",
            "text/plain": [
              "<Figure size 432x288 with 1 Axes>"
            ]
          },
          "metadata": {
            "tags": [],
            "needs_background": "light"
          }
        }
      ]
    },
    {
      "cell_type": "code",
      "metadata": {
        "id": "3_RVILFp6R72"
      },
      "source": [
        ""
      ],
      "execution_count": null,
      "outputs": []
    }
  ]
}