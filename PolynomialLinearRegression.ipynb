{
  "nbformat": 4,
  "nbformat_minor": 0,
  "metadata": {
    "colab": {
      "name": "PolynomialLinearRegression.ipynb",
      "provenance": [],
      "collapsed_sections": [],
      "toc_visible": true,
      "authorship_tag": "ABX9TyNDvdzvH8ol6vG7TgorMVMW",
      "include_colab_link": true
    },
    "kernelspec": {
      "name": "python3",
      "display_name": "Python 3"
    }
  },
  "cells": [
    {
      "cell_type": "markdown",
      "metadata": {
        "id": "view-in-github",
        "colab_type": "text"
      },
      "source": [
        "<a href=\"https://colab.research.google.com/github/measwa/MLPrograms/blob/Python/PolynomialLinearRegression.ipynb\" target=\"_parent\"><img src=\"https://colab.research.google.com/assets/colab-badge.svg\" alt=\"Open In Colab\"/></a>"
      ]
    },
    {
      "cell_type": "markdown",
      "metadata": {
        "id": "eG_yzh1TwUBY"
      },
      "source": [
        "# **Polynomial Regression**"
      ]
    },
    {
      "cell_type": "markdown",
      "metadata": {
        "id": "wcwhgKncTRNA"
      },
      "source": [
        "# Importing the libraries"
      ]
    },
    {
      "cell_type": "code",
      "metadata": {
        "id": "UtlFtfuFS2GR"
      },
      "source": [
        "import numpy as np\r\n",
        "import matplotlib.pyplot as plt\r\n",
        "import pandas as pd"
      ],
      "execution_count": 1,
      "outputs": []
    },
    {
      "cell_type": "markdown",
      "metadata": {
        "id": "MJXvHeA7Tk3C"
      },
      "source": [
        "# Importing the dataset"
      ]
    },
    {
      "cell_type": "code",
      "metadata": {
        "id": "bQZwZ2TFTrT9"
      },
      "source": [
        "dataset = pd.read_csv('Position_Salaries.csv')\r\n",
        "X = dataset.iloc[:, 1:-1].values\r\n",
        "y = dataset.iloc[:, -1].values"
      ],
      "execution_count": 2,
      "outputs": []
    },
    {
      "cell_type": "markdown",
      "metadata": {
        "id": "5hswsKlCwcFz"
      },
      "source": [
        "# Training the Linear Regression Model on the whole dataset"
      ]
    },
    {
      "cell_type": "code",
      "metadata": {
        "colab": {
          "base_uri": "https://localhost:8080/"
        },
        "id": "2GDDZWRv5MlQ",
        "outputId": "36b6079d-3d3e-4f0b-94a5-2e79249dfc2d"
      },
      "source": [
        "from sklearn.linear_model import LinearRegression\r\n",
        "ln_regressor = LinearRegression()\r\n",
        "ln_regressor.fit(X,y)"
      ],
      "execution_count": 4,
      "outputs": [
        {
          "output_type": "execute_result",
          "data": {
            "text/plain": [
              "LinearRegression(copy_X=True, fit_intercept=True, n_jobs=None, normalize=False)"
            ]
          },
          "metadata": {
            "tags": []
          },
          "execution_count": 4
        }
      ]
    },
    {
      "cell_type": "markdown",
      "metadata": {
        "id": "QJ76cPN0wm1a"
      },
      "source": [
        "# Training the Polynomial Regression Model on the whole dataset"
      ]
    },
    {
      "cell_type": "code",
      "metadata": {
        "colab": {
          "base_uri": "https://localhost:8080/"
        },
        "id": "JXpe8fuk6Jzb",
        "outputId": "728825a9-9e26-4219-9771-3bcbd6374af2"
      },
      "source": [
        "from sklearn.preprocessing import PolynomialFeatures\r\n",
        "poly_regressor = PolynomialFeatures(degree=4)\r\n",
        "xpoly = poly_regressor.fit_transform(X)\r\n",
        "ln2_regressor = LinearRegression()\r\n",
        "ln2_regressor.fit(xpoly,y)"
      ],
      "execution_count": 12,
      "outputs": [
        {
          "output_type": "execute_result",
          "data": {
            "text/plain": [
              "LinearRegression(copy_X=True, fit_intercept=True, n_jobs=None, normalize=False)"
            ]
          },
          "metadata": {
            "tags": []
          },
          "execution_count": 12
        }
      ]
    },
    {
      "cell_type": "markdown",
      "metadata": {
        "id": "sqcF59FXwugi"
      },
      "source": [
        "# Visualising the Linear Regression Results"
      ]
    },
    {
      "cell_type": "code",
      "metadata": {
        "colab": {
          "base_uri": "https://localhost:8080/",
          "height": 295
        },
        "id": "U8NngAFS8TIC",
        "outputId": "d71b770b-0bcd-4b88-efdd-1232320b5013"
      },
      "source": [
        "plt.scatter(X,y,color = 'red')\r\n",
        "plt.plot(X,ln_regressor.predict(X), color = 'blue')\r\n",
        "plt.title('Level vs Salary - Linear Regression')\r\n",
        "plt.xlabel('Level')\r\n",
        "plt.ylabel('Salary')\r\n",
        "plt.show()"
      ],
      "execution_count": 7,
      "outputs": [
        {
          "output_type": "display_data",
          "data": {
            "image/png": "[encoded data removed]",
            "text/plain": [
              "<Figure size 432x288 with 1 Axes>"
            ]
          },
          "metadata": {
            "tags": [],
            "needs_background": "light"
          }
        }
      ]
    },
    {
      "cell_type": "markdown",
      "metadata": {
        "id": "5k-_vH87wz8Y"
      },
      "source": [
        "# Visualising the Polynomial Regression Results"
      ]
    },
    {
      "cell_type": "code",
      "metadata": {
        "colab": {
          "base_uri": "https://localhost:8080/",
          "height": 295
        },
        "id": "IHpkq3YI9Tqs",
        "outputId": "796a5c72-3b4a-40b6-f5a8-936fd2e4d59e"
      },
      "source": [
        "plt.scatter(X,y,color = 'red')\r\n",
        "plt.plot(X,ln2_regressor.predict(xpoly), color = 'blue')\r\n",
        "plt.title('Level vs Salary - Polynomial Regression')\r\n",
        "plt.xlabel('Level')\r\n",
        "plt.ylabel('Salary')\r\n",
        "plt.show()"
      ],
      "execution_count": 13,
      "outputs": [
        {
          "output_type": "display_data",
          "data": {
            "image/png": "[encoded data removed]",
            "text/plain": [
              "<Figure size 432x288 with 1 Axes>"
            ]
          },
          "metadata": {
            "tags": [],
            "needs_background": "light"
          }
        }
      ]
    },
    {
      "cell_type": "markdown",
      "metadata": {
        "id": "HvbssieEw5nh"
      },
      "source": [
        "# Visualising the Polynomial Regression Results (for higher resolution and smoorth curve)"
      ]
    },
    {
      "cell_type": "code",
      "metadata": {
        "colab": {
          "base_uri": "https://localhost:8080/",
          "height": 295
        },
        "id": "sVrJTsm7-qZy",
        "outputId": "da704fdb-8ecc-487f-bd4b-f9deb714b6b2"
      },
      "source": [
        "X_grid = np.arange(min(X),max(X),0.1)\r\n",
        "X_grid = X_grid.reshape(len(X_grid),1)\r\n",
        "plt.scatter(X,y,color = 'red')\r\n",
        "plt.plot(X_grid,ln2_regressor.predict(poly_regressor.fit_transform(X_grid)), color = 'blue')\r\n",
        "plt.title('Level vs Salary - Polynomial Regression (Smooth Curve)')\r\n",
        "plt.xlabel('Level')\r\n",
        "plt.ylabel('Salary')\r\n",
        "plt.show()"
      ],
      "execution_count": 15,
      "outputs": [
        {
          "output_type": "display_data",
          "data": {
            "image/png": "[encoded data removed]",
            "text/plain": [
              "<Figure size 432x288 with 1 Axes>"
            ]
          },
          "metadata": {
            "tags": [],
            "needs_background": "light"
          }
        }
      ]
    },
    {
      "cell_type": "markdown",
      "metadata": {
        "id": "q224UgOPxDoe"
      },
      "source": [
        "# Predicting a new result with Linear Regression"
      ]
    },
    {
      "cell_type": "code",
      "metadata": {
        "colab": {
          "base_uri": "https://localhost:8080/"
        },
        "id": "HoTuF3x5HvbX",
        "outputId": "bf43ec40-d6f5-4294-a56f-1481b204aaf4"
      },
      "source": [
        "ln_regressor.predict([[6.5]])"
      ],
      "execution_count": 25,
      "outputs": [
        {
          "output_type": "execute_result",
          "data": {
            "text/plain": [
              "array([330378.78787879])"
            ]
          },
          "metadata": {
            "tags": []
          },
          "execution_count": 25
        }
      ]
    },
    {
      "cell_type": "markdown",
      "metadata": {
        "id": "4UCpnbSuxyFi"
      },
      "source": [
        "# Predicting a new result with Polynomial Regression"
      ]
    },
    {
      "cell_type": "code",
      "metadata": {
        "colab": {
          "base_uri": "https://localhost:8080/"
        },
        "id": "hsGV3HYNJDIj",
        "outputId": "67d595c8-d565-4817-d7a2-58de4cee8952"
      },
      "source": [
        "ln2_regressor.predict(poly_regressor.fit_transform([[6.5]]))"
      ],
      "execution_count": 26,
      "outputs": [
        {
          "output_type": "execute_result",
          "data": {
            "text/plain": [
              "array([158862.45265155])"
            ]
          },
          "metadata": {
            "tags": []
          },
          "execution_count": 26
        }
      ]
    }
  ]
}