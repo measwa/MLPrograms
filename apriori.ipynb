{
  "nbformat": 4,
  "nbformat_minor": 0,
  "metadata": {
    "colab": {
      "name": "apriori.ipynb",
      "provenance": [],
      "collapsed_sections": [],
      "toc_visible": true,
      "authorship_tag": "ABX9TyPqnf2BAaF4qNNgbnl3HhiJ",
      "include_colab_link": true
    },
    "kernelspec": {
      "name": "python3",
      "display_name": "Python 3"
    }
  },
  "cells": [
    {
      "cell_type": "markdown",
      "metadata": {
        "id": "view-in-github",
        "colab_type": "text"
      },
      "source": [
        "<a href=\"https://colab.research.google.com/github/measwa/MLPrograms/blob/Python/apriori.ipynb\" target=\"_parent\"><img src=\"https://colab.research.google.com/assets/colab-badge.svg\" alt=\"Open In Colab\"/></a>"
      ]
    },
    {
      "cell_type": "markdown",
      "metadata": {
        "id": "-sQkczmXUv6W"
      },
      "source": [
        "# **Associate Rule Learning - Apriori**"
      ]
    },
    {
      "cell_type": "markdown",
      "metadata": {
        "id": "kZq3YZnvU4vP"
      },
      "source": [
        "# Import the Libraries"
      ]
    },
    {
      "cell_type": "code",
      "metadata": {
        "id": "cziuv4--UYb9"
      },
      "source": [
        ""
      ],
      "execution_count": null,
      "outputs": []
    },
    {
      "cell_type": "markdown",
      "metadata": {
        "id": "GUHFGQOkWRLs"
      },
      "source": [
        "# Data Preprocessing"
      ]
    },
    {
      "cell_type": "code",
      "metadata": {
        "id": "1w27nw-XWVLy"
      },
      "source": [
        ""
      ],
      "execution_count": null,
      "outputs": []
    },
    {
      "cell_type": "markdown",
      "metadata": {
        "id": "DPtDNnEgWVnT"
      },
      "source": [
        "# Training the Apriori model on the dataset"
      ]
    },
    {
      "cell_type": "code",
      "metadata": {
        "id": "HET0veGHWbpj"
      },
      "source": [
        ""
      ],
      "execution_count": null,
      "outputs": []
    },
    {
      "cell_type": "markdown",
      "metadata": {
        "id": "JbTvDYJnWcQa"
      },
      "source": [
        "# Visualizing the results"
      ]
    },
    {
      "cell_type": "code",
      "metadata": {
        "id": "O0LyzSH8WhDJ"
      },
      "source": [
        ""
      ],
      "execution_count": null,
      "outputs": []
    },
    {
      "cell_type": "markdown",
      "metadata": {
        "id": "Edl64DbJWhjB"
      },
      "source": [
        "# Display the first result coming directly from the output of the Aprori Function"
      ]
    },
    {
      "cell_type": "code",
      "metadata": {
        "id": "z3Q1XZA7WxFr"
      },
      "source": [
        ""
      ],
      "execution_count": null,
      "outputs": []
    },
    {
      "cell_type": "markdown",
      "metadata": {
        "id": "hEMJBqazWxhH"
      },
      "source": [
        "# Putting the results well organised into a Pandas DataFrame"
      ]
    },
    {
      "cell_type": "code",
      "metadata": {
        "id": "dO9bX5jOXBS_"
      },
      "source": [
        ""
      ],
      "execution_count": null,
      "outputs": []
    },
    {
      "cell_type": "markdown",
      "metadata": {
        "id": "FYk1FGVlXBr2"
      },
      "source": [
        "# Displaying the results non sorted"
      ]
    },
    {
      "cell_type": "code",
      "metadata": {
        "id": "0DlBlNT3XIIU"
      },
      "source": [
        ""
      ],
      "execution_count": null,
      "outputs": []
    },
    {
      "cell_type": "markdown",
      "metadata": {
        "id": "5qXwf59DXIx3"
      },
      "source": [
        "# Displaying the results sorted by descending lifts"
      ]
    },
    {
      "cell_type": "code",
      "metadata": {
        "id": "p9IJhNf2XS_y"
      },
      "source": [
        ""
      ],
      "execution_count": null,
      "outputs": []
    }
  ]
}